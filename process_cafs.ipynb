{
 "cells": [
  {
   "cell_type": "code",
   "execution_count": 1,
   "id": "7c32f7a6",
   "metadata": {},
   "outputs": [],
   "source": [
    "import numpy as np\n",
    "import matplotlib.pyplot as plt\n",
    "import matplotlib as mpl\n",
    "import pandas as pd\n",
    "\n",
    "import pickle\n",
    "\n",
    "import os\n",
    "\n",
    "from tqdm.notebook import tqdm\n",
    "\n",
    "import uproot\n",
    "\n",
    "from collections import defaultdict\n"
   ]
  },
  {
   "cell_type": "code",
   "execution_count": 2,
   "id": "02407e93",
   "metadata": {},
   "outputs": [],
   "source": [
    "# this code contains some annoying/slow things to do matching myself\n",
    "# potentially using medulla is a better option\n"
   ]
  },
  {
   "cell_type": "code",
   "execution_count": 3,
   "id": "4edcfd8c",
   "metadata": {},
   "outputs": [],
   "source": [
    "def get_df_from_file(file_name):\n",
    "\n",
    "    f = uproot.open('/nevis/riverside/data/leehagaman/spine/flat_cafs/' + file_name)\n",
    "\n",
    "    dic = {}\n",
    "    dic.update(f[\"recTree\"].arrays([\"rec.dlp_true.nu_id\", \"rec.dlp_true.is_fiducial\", \"rec.dlp_true.particles.interaction_id\", \"rec.dlp_true.particles.match_ids\", \"rec.dlp.particles.id\", \n",
    "                                    \"rec.dlp_true.particles.pdg_code\", \"rec.dlp.particles.pdg_code\",\n",
    "                                    \"rec.dlp_true.particles.is_contained\", \"rec.dlp.particles.is_contained\",\n",
    "                                    \"rec.dlp_true.particles.is_primary\", \"rec.dlp.particles.is_primary\",\n",
    "                                    \"rec.dlp_true.particles.start_point.0\", \"rec.dlp_true.particles.start_point.1\", \"rec.dlp_true.particles.start_point.2\", \n",
    "                                    \"rec.dlp.particles.start_point.0\", \"rec.dlp.particles.start_point.1\", \"rec.dlp.particles.start_point.2\",\n",
    "                                    \"rec.dlp_true.particles.end_point.0\", \"rec.dlp_true.particles.end_point.1\", \"rec.dlp_true.particles.end_point.2\", \n",
    "                                    \"rec.dlp.particles.end_point.0\", \"rec.dlp.particles.end_point.1\", \"rec.dlp.particles.end_point.2\",\n",
    "                                    \"rec.dlp_true.particles.start_dir.0\", \"rec.dlp_true.particles.start_dir.1\", \"rec.dlp_true.particles.start_dir.2\",\n",
    "                                    \"rec.dlp.particles.start_dir.0\", \"rec.dlp.particles.start_dir.1\", \"rec.dlp.particles.start_dir.2\",\n",
    "                                    \"rec.dlp_true.particles.ke\", \"rec.dlp.particles.ke\",\n",
    "                                    \"rec.dlp.particles.mcs_ke\", \"rec.dlp.particles.csda_ke\", \"rec.dlp.particles.calo_ke\",\n",
    "                                    \"rec.dlp.particles.length\", \"rec.dlp_true.particles.length\", \n",
    "                                    ], library=\"np\"))\n",
    "\n",
    "    for col in dic:\n",
    "        dic[col] = dic[col].tolist()\n",
    "    df = pd.DataFrame(dic)\n",
    "\n",
    "    # rename columns\n",
    "    df.rename(columns={\n",
    "        \"rec.dlp_true.nu_id\": \"true_interaction_is_neutrino\",\n",
    "        \"rec.dlp_true.is_fiducial\": \"true_interaction_is_fiducial\",\n",
    "        \"rec.dlp_true.particles.interaction_id\": \"true_particle_interaction_id\",\n",
    "        \"rec.dlp_true.particles.match_ids\": \"true_particle_match_reco_particle_id\",\n",
    "        \"rec.dlp.particles.id\": \"reco_particle_id\",\n",
    "        \"rec.dlp_true.particles.pdg_code\": \"true_particle_pdg_code\",\n",
    "        \"rec.dlp.particles.pdg_code\": \"reco_particle_pdg_code\",\n",
    "        \"rec.dlp_true.particles.is_contained\": \"true_particle_contained\",\n",
    "        \"rec.dlp.particles.is_contained\": \"reco_particle_contained\",\n",
    "        \"rec.dlp_true.particles.is_primary\": \"true_particle_primary\",\n",
    "        \"rec.dlp.particles.is_primary\": \"reco_particle_primary\",\n",
    "        \"rec.dlp_true.particles.start_point.0\": \"true_start_point_x\",\n",
    "        \"rec.dlp_true.particles.start_point.1\": \"true_start_point_y\",\n",
    "        \"rec.dlp_true.particles.start_point.2\": \"true_start_point_z\",\n",
    "        \"rec.dlp.particles.start_point.0\": \"reco_start_point_x\",\n",
    "        \"rec.dlp.particles.start_point.1\": \"reco_start_point_y\",\n",
    "        \"rec.dlp.particles.start_point.2\": \"reco_start_point_z\",\n",
    "        \"rec.dlp_true.particles.end_point.0\": \"true_end_point_x\",\n",
    "        \"rec.dlp_true.particles.end_point.1\": \"true_end_point_y\",\n",
    "        \"rec.dlp_true.particles.end_point.2\": \"true_end_point_z\",\n",
    "        \"rec.dlp.particles.end_point.0\": \"reco_end_point_x\",\n",
    "        \"rec.dlp.particles.end_point.1\": \"reco_end_point_y\",\n",
    "        \"rec.dlp.particles.end_point.2\": \"reco_end_point_z\",\n",
    "        \"rec.dlp_true.particles.start_dir.0\": \"true_start_dir_x\",\n",
    "        \"rec.dlp_true.particles.start_dir.1\": \"true_start_dir_y\",\n",
    "        \"rec.dlp_true.particles.start_dir.2\": \"true_start_dir_z\",\n",
    "        \"rec.dlp.particles.start_dir.0\": \"reco_start_dir_x\",\n",
    "        \"rec.dlp.particles.start_dir.1\": \"reco_start_dir_y\",\n",
    "        \"rec.dlp.particles.start_dir.2\": \"reco_start_dir_z\",\n",
    "        \"rec.dlp_true.particles.ke\": \"true_ke\",\n",
    "        \"rec.dlp.particles.ke\": \"reco_ke\",\n",
    "        \"rec.dlp.particles.mcs_ke\": \"reco_mcs_ke\",\n",
    "        \"rec.dlp.particles.csda_ke\": \"reco_csda_ke\",\n",
    "        \"rec.dlp.particles.calo_ke\": \"reco_calo_ke\",\n",
    "        \"rec.dlp.particles.length\": \"reco_length\",\n",
    "        \"rec.dlp_true.particles.length\": \"true_length\",\n",
    "    }, inplace=True)\n",
    "\n",
    "    return df\n",
    "\n"
   ]
  },
  {
   "cell_type": "code",
   "execution_count": 4,
   "id": "ffad930a",
   "metadata": {},
   "outputs": [],
   "source": [
    "def get_primary_fv_interactions_df(df):\n",
    "\n",
    "    primary_fv_interactions = defaultdict(list)\n",
    "\n",
    "    for event_i in tqdm(range(len(df))):\n",
    "        row = df.iloc[event_i]\n",
    "        nu_index = None\n",
    "        for interaction_index in range(len(row[\"true_interaction_is_neutrino\"])):\n",
    "            interaction_type_id = row[\"true_interaction_is_neutrino\"][interaction_index]\n",
    "            if interaction_type_id >= 0:\n",
    "                nu_index = interaction_index\n",
    "                break\n",
    "        if nu_index is None: # no true nu interaction, don't include this event\n",
    "            continue\n",
    "        new_true_particle_interaction_id = []\n",
    "        new_true_particle_match_reco_particle_id = []\n",
    "        new_true_particle_contained = []\n",
    "        new_true_particle_primary = []\n",
    "        new_true_particle_pdg_code = []\n",
    "        new_true_particle_start_point_x = []\n",
    "        new_true_particle_start_point_y = []\n",
    "        new_true_particle_start_point_z = []\n",
    "        new_true_particle_start_dir_x = []\n",
    "        new_true_particle_start_dir_y = []\n",
    "        new_true_particle_start_dir_z = []\n",
    "        new_true_particle_end_point_x = []\n",
    "        new_true_particle_end_point_y = []\n",
    "        new_true_particle_end_point_z = []\n",
    "        new_true_particle_ke = []\n",
    "        new_true_particle_length = []\n",
    "\n",
    "        new_matching_reco_particle_id = []\n",
    "        new_matching_reco_particle_contained = []\n",
    "        new_matching_reco_particle_primary = []\n",
    "        new_matching_reco_particle_pdg_code = []\n",
    "        new_matching_reco_particle_start_point_x = []\n",
    "        new_matching_reco_particle_start_point_y = []\n",
    "        new_matching_reco_particle_start_point_z = []\n",
    "        new_matching_reco_particle_start_dir_x = []\n",
    "        new_matching_reco_particle_start_dir_y = []\n",
    "        new_matching_reco_particle_start_dir_z = []\n",
    "        new_matching_reco_particle_end_point_x = []\n",
    "        new_matching_reco_particle_end_point_y = []\n",
    "        new_matching_reco_particle_end_point_z = []\n",
    "        new_matching_reco_particle_ke = []\n",
    "        new_matching_reco_particle_mcs_ke = []\n",
    "        new_matching_reco_particle_csda_ke = []\n",
    "        new_matching_reco_particle_calo_ke = []\n",
    "        new_matching_reco_particle_length = []\n",
    "        for true_particle_i in range(len(row[\"true_particle_interaction_id\"])):\n",
    "\n",
    "            if row[\"true_particle_interaction_id\"][true_particle_i] != nu_index: # particle is not from a neutrino interaction\n",
    "                continue\n",
    "\n",
    "            if row[\"true_interaction_is_fiducial\"][interaction_index] == 0: # interaction is not fiducial, don't include this particle\n",
    "                continue\n",
    "\n",
    "            new_true_particle_interaction_id.append(row[\"true_particle_interaction_id\"][true_particle_i])\n",
    "            new_true_particle_match_reco_particle_id.append(row[\"true_particle_match_reco_particle_id\"][true_particle_i])\n",
    "            new_true_particle_contained.append(row[\"true_particle_contained\"][true_particle_i])\n",
    "            new_true_particle_primary.append(row[\"true_particle_primary\"][true_particle_i])\n",
    "            new_true_particle_pdg_code.append(row[\"true_particle_pdg_code\"][true_particle_i])\n",
    "            new_true_particle_start_point_x.append(row[\"true_start_point_x\"][true_particle_i])\n",
    "            new_true_particle_start_point_y.append(row[\"true_start_point_y\"][true_particle_i])\n",
    "            new_true_particle_start_point_z.append(row[\"true_start_point_z\"][true_particle_i])\n",
    "            new_true_particle_start_dir_x.append(row[\"true_start_dir_x\"][true_particle_i])\n",
    "            new_true_particle_start_dir_y.append(row[\"true_start_dir_y\"][true_particle_i])\n",
    "            new_true_particle_start_dir_z.append(row[\"true_start_dir_z\"][true_particle_i])\n",
    "            new_true_particle_end_point_x.append(row[\"true_end_point_x\"][true_particle_i])\n",
    "            new_true_particle_end_point_y.append(row[\"true_end_point_y\"][true_particle_i])\n",
    "            new_true_particle_end_point_z.append(row[\"true_end_point_z\"][true_particle_i])\n",
    "            new_true_particle_ke.append(row[\"true_ke\"][true_particle_i])\n",
    "            new_true_particle_length.append(row[\"true_length\"][true_particle_i])\n",
    "\n",
    "            for reco_particle_i in range(len(row[\"reco_particle_id\"])):\n",
    "                if true_particle_i >= len(row[\"true_particle_match_reco_particle_id\"]):\n",
    "                    print(\"weird, too high true_particle_i index in event\", event_i, \"true_particle_i\", true_particle_i)\n",
    "                    continue\n",
    "                if reco_particle_i >= len(row[\"reco_particle_id\"]):\n",
    "                    print(\"weird, too high reco_particle_i index in event\", event_i, \"reco_particle_i\", reco_particle_i)\n",
    "                    continue\n",
    "                if row[\"reco_particle_id\"][reco_particle_i] == row[\"true_particle_match_reco_particle_id\"][true_particle_i]:\n",
    "                    new_matching_reco_particle_id.append(row[\"reco_particle_id\"][reco_particle_i])\n",
    "                    new_matching_reco_particle_contained.append(row[\"reco_particle_contained\"][reco_particle_i])\n",
    "                    new_matching_reco_particle_primary.append(row[\"reco_particle_primary\"][reco_particle_i])\n",
    "                    new_matching_reco_particle_pdg_code.append(row[\"reco_particle_pdg_code\"][reco_particle_i])\n",
    "                    new_matching_reco_particle_start_point_x.append(row[\"reco_start_point_x\"][reco_particle_i])\n",
    "                    new_matching_reco_particle_start_point_y.append(row[\"reco_start_point_y\"][reco_particle_i])\n",
    "                    new_matching_reco_particle_start_point_z.append(row[\"reco_start_point_z\"][reco_particle_i])\n",
    "                    new_matching_reco_particle_start_dir_x.append(row[\"reco_start_dir_x\"][reco_particle_i])\n",
    "                    new_matching_reco_particle_start_dir_y.append(row[\"reco_start_dir_y\"][reco_particle_i])\n",
    "                    new_matching_reco_particle_start_dir_z.append(row[\"reco_start_dir_z\"][reco_particle_i])\n",
    "                    new_matching_reco_particle_end_point_x.append(row[\"reco_end_point_x\"][reco_particle_i])\n",
    "                    new_matching_reco_particle_end_point_y.append(row[\"reco_end_point_y\"][reco_particle_i])\n",
    "                    new_matching_reco_particle_end_point_z.append(row[\"reco_end_point_z\"][reco_particle_i])\n",
    "                    new_matching_reco_particle_ke.append(row[\"reco_ke\"][reco_particle_i])\n",
    "                    new_matching_reco_particle_mcs_ke.append(row[\"reco_mcs_ke\"][reco_particle_i])\n",
    "                    new_matching_reco_particle_csda_ke.append(row[\"reco_csda_ke\"][reco_particle_i])\n",
    "                    new_matching_reco_particle_calo_ke.append(row[\"reco_calo_ke\"][reco_particle_i])\n",
    "                    new_matching_reco_particle_length.append(row[\"reco_length\"][reco_particle_i])\n",
    "                    \n",
    "        primary_fv_interactions[\"true_particle_interaction_id\"].append(new_true_particle_interaction_id)\n",
    "        primary_fv_interactions[\"true_particle_match_reco_particle_id\"].append(new_true_particle_match_reco_particle_id)\n",
    "        primary_fv_interactions[\"true_particle_contained\"].append(new_true_particle_contained)\n",
    "        primary_fv_interactions[\"true_particle_primary\"].append(new_true_particle_primary)\n",
    "        primary_fv_interactions[\"true_particle_pdg_code\"].append(new_true_particle_pdg_code)\n",
    "        primary_fv_interactions[\"true_start_point_x\"].append(new_true_particle_start_point_x)\n",
    "        primary_fv_interactions[\"true_start_point_y\"].append(new_true_particle_start_point_y)\n",
    "        primary_fv_interactions[\"true_start_point_z\"].append(new_true_particle_start_point_z)\n",
    "        primary_fv_interactions[\"true_start_dir_x\"].append(new_true_particle_start_dir_x)\n",
    "        primary_fv_interactions[\"true_start_dir_y\"].append(new_true_particle_start_dir_y)\n",
    "        primary_fv_interactions[\"true_start_dir_z\"].append(new_true_particle_start_dir_z)\n",
    "        primary_fv_interactions[\"true_end_point_x\"].append(new_true_particle_end_point_x)\n",
    "        primary_fv_interactions[\"true_end_point_y\"].append(new_true_particle_end_point_y)\n",
    "        primary_fv_interactions[\"true_end_point_z\"].append(new_true_particle_end_point_z)\n",
    "        primary_fv_interactions[\"true_ke\"].append(new_true_particle_ke)\n",
    "        primary_fv_interactions[\"true_length\"].append(new_true_particle_length)\n",
    "        primary_fv_interactions[\"matching_reco_particle_id\"].append(new_matching_reco_particle_id)\n",
    "        primary_fv_interactions[\"matching_reco_particle_contained\"].append(new_matching_reco_particle_contained)\n",
    "        primary_fv_interactions[\"matching_reco_particle_primary\"].append(new_matching_reco_particle_primary)\n",
    "        primary_fv_interactions[\"matching_reco_particle_pdg_code\"].append(new_matching_reco_particle_pdg_code)\n",
    "        primary_fv_interactions[\"matching_reco_particle_start_point_x\"].append(new_matching_reco_particle_start_point_x)\n",
    "        primary_fv_interactions[\"matching_reco_particle_start_point_y\"].append(new_matching_reco_particle_start_point_y)\n",
    "        primary_fv_interactions[\"matching_reco_particle_start_point_z\"].append(new_matching_reco_particle_start_point_z)\n",
    "        primary_fv_interactions[\"matching_reco_particle_start_dir_x\"].append(new_matching_reco_particle_start_dir_x)\n",
    "        primary_fv_interactions[\"matching_reco_particle_start_dir_y\"].append(new_matching_reco_particle_start_dir_y)\n",
    "        primary_fv_interactions[\"matching_reco_particle_start_dir_z\"].append(new_matching_reco_particle_start_dir_z)\n",
    "        primary_fv_interactions[\"matching_reco_particle_end_point_x\"].append(new_matching_reco_particle_end_point_x)\n",
    "        primary_fv_interactions[\"matching_reco_particle_end_point_y\"].append(new_matching_reco_particle_end_point_y)\n",
    "        primary_fv_interactions[\"matching_reco_particle_end_point_z\"].append(new_matching_reco_particle_end_point_z)\n",
    "        primary_fv_interactions[\"matching_reco_particle_ke\"].append(new_matching_reco_particle_ke)\n",
    "        primary_fv_interactions[\"matching_reco_particle_mcs_ke\"].append(new_matching_reco_particle_mcs_ke)\n",
    "        primary_fv_interactions[\"matching_reco_particle_csda_ke\"].append(new_matching_reco_particle_csda_ke)\n",
    "        primary_fv_interactions[\"matching_reco_particle_calo_ke\"].append(new_matching_reco_particle_calo_ke)\n",
    "        primary_fv_interactions[\"matching_reco_particle_length\"].append(new_matching_reco_particle_length)\n",
    "    primary_fv_interactions_df = pd.DataFrame({\n",
    "        \"true_particle_interaction_id\": primary_fv_interactions[\"true_particle_interaction_id\"],\n",
    "        \"true_particle_match_reco_particle_id\": primary_fv_interactions[\"true_particle_match_reco_particle_id\"],\n",
    "        \"true_particle_contained\": primary_fv_interactions[\"true_particle_contained\"],\n",
    "        \"true_particle_primary\": primary_fv_interactions[\"true_particle_primary\"],\n",
    "        \"true_particle_pdg_code\": primary_fv_interactions[\"true_particle_pdg_code\"],\n",
    "        \"true_start_point_x\": primary_fv_interactions[\"true_start_point_x\"],\n",
    "        \"true_start_point_y\": primary_fv_interactions[\"true_start_point_y\"],\n",
    "        \"true_start_point_z\": primary_fv_interactions[\"true_start_point_z\"],\n",
    "        \"true_start_dir_x\": primary_fv_interactions[\"true_start_dir_x\"],\n",
    "        \"true_start_dir_y\": primary_fv_interactions[\"true_start_dir_y\"],\n",
    "        \"true_start_dir_z\": primary_fv_interactions[\"true_start_dir_z\"],\n",
    "        \"true_end_point_x\": primary_fv_interactions[\"true_end_point_x\"],\n",
    "        \"true_end_point_y\": primary_fv_interactions[\"true_end_point_y\"],\n",
    "        \"true_end_point_z\": primary_fv_interactions[\"true_end_point_z\"],\n",
    "        \"true_ke\": primary_fv_interactions[\"true_ke\"],\n",
    "        \"true_length\": primary_fv_interactions[\"true_length\"],\n",
    "        \n",
    "        \"matching_reco_particle_id\": primary_fv_interactions[\"matching_reco_particle_id\"],\n",
    "        \"matching_reco_particle_contained\": primary_fv_interactions[\"matching_reco_particle_contained\"],\n",
    "        \"matching_reco_particle_primary\": primary_fv_interactions[\"matching_reco_particle_primary\"],\n",
    "        \"matching_reco_particle_pdg_code\": primary_fv_interactions[\"matching_reco_particle_pdg_code\"],\n",
    "        \"matching_reco_particle_start_point_x\": primary_fv_interactions[\"matching_reco_particle_start_point_x\"],\n",
    "        \"matching_reco_particle_start_point_y\": primary_fv_interactions[\"matching_reco_particle_start_point_y\"],\n",
    "        \"matching_reco_particle_start_point_z\": primary_fv_interactions[\"matching_reco_particle_start_point_z\"],\n",
    "        \"matching_reco_particle_start_dir_x\": primary_fv_interactions[\"matching_reco_particle_start_dir_x\"],\n",
    "        \"matching_reco_particle_start_dir_y\": primary_fv_interactions[\"matching_reco_particle_start_dir_y\"],\n",
    "        \"matching_reco_particle_start_dir_z\": primary_fv_interactions[\"matching_reco_particle_start_dir_z\"],\n",
    "        \"matching_reco_particle_end_point_x\": primary_fv_interactions[\"matching_reco_particle_end_point_x\"],\n",
    "        \"matching_reco_particle_end_point_y\": primary_fv_interactions[\"matching_reco_particle_end_point_y\"],\n",
    "        \"matching_reco_particle_end_point_z\": primary_fv_interactions[\"matching_reco_particle_end_point_z\"],\n",
    "        \"matching_reco_particle_ke\": primary_fv_interactions[\"matching_reco_particle_ke\"],\n",
    "        \"matching_reco_particle_mcs_ke\": primary_fv_interactions[\"matching_reco_particle_mcs_ke\"],\n",
    "        \"matching_reco_particle_csda_ke\": primary_fv_interactions[\"matching_reco_particle_csda_ke\"],\n",
    "        \"matching_reco_particle_calo_ke\": primary_fv_interactions[\"matching_reco_particle_calo_ke\"],\n",
    "        \"matching_reco_particle_length\": primary_fv_interactions[\"matching_reco_particle_length\"],\n",
    "    })\n",
    "\n",
    "    return primary_fv_interactions_df\n"
   ]
  },
  {
   "cell_type": "code",
   "execution_count": 5,
   "id": "32e63de9",
   "metadata": {},
   "outputs": [],
   "source": [
    "def get_true_muons_only_df(primary_fv_interactions_df):\n",
    "\n",
    "    true_muons_only = defaultdict(list)\n",
    "\n",
    "    for event_i in range(len(primary_fv_interactions_df)):\n",
    "        row = primary_fv_interactions_df.iloc[event_i]\n",
    "        nu_index = None\n",
    "        num_found_muons = 0\n",
    "        for true_particle_i in range(len(row[\"true_particle_pdg_code\"])):\n",
    "            if abs(row[\"true_particle_pdg_code\"][true_particle_i]) == 13:\n",
    "                num_found_muons += 1\n",
    "                true_muons_only[\"true_particle_interaction_id\"].append(row[\"true_particle_interaction_id\"][true_particle_i])\n",
    "                true_muons_only[\"true_particle_match_reco_particle_id\"].append(row[\"true_particle_match_reco_particle_id\"][true_particle_i])\n",
    "                true_muons_only[\"true_particle_contained\"].append(row[\"true_particle_contained\"][true_particle_i])\n",
    "                true_muons_only[\"true_particle_primary\"].append(row[\"true_particle_primary\"][true_particle_i])\n",
    "                true_muons_only[\"true_particle_pdg_code\"].append(row[\"true_particle_pdg_code\"][true_particle_i])\n",
    "                true_muons_only[\"true_start_point_x\"].append(row[\"true_start_point_x\"][true_particle_i])\n",
    "                true_muons_only[\"true_start_point_y\"].append(row[\"true_start_point_y\"][true_particle_i])\n",
    "                true_muons_only[\"true_start_point_z\"].append(row[\"true_start_point_z\"][true_particle_i])\n",
    "                true_muons_only[\"true_start_dir_x\"].append(row[\"true_start_dir_x\"][true_particle_i])\n",
    "                true_muons_only[\"true_start_dir_y\"].append(row[\"true_start_dir_y\"][true_particle_i])\n",
    "                true_muons_only[\"true_start_dir_z\"].append(row[\"true_start_dir_z\"][true_particle_i])\n",
    "                true_muons_only[\"true_end_point_x\"].append(row[\"true_end_point_x\"][true_particle_i])\n",
    "                true_muons_only[\"true_end_point_y\"].append(row[\"true_end_point_y\"][true_particle_i])\n",
    "                true_muons_only[\"true_end_point_z\"].append(row[\"true_end_point_z\"][true_particle_i])\n",
    "                true_muons_only[\"true_ke\"].append(row[\"true_ke\"][true_particle_i])\n",
    "                true_muons_only[\"true_length\"].append(row[\"true_length\"][true_particle_i])\n",
    "\n",
    "                true_muons_only[\"matching_reco_particle_id\"].append(row[\"matching_reco_particle_id\"][true_particle_i])\n",
    "                true_muons_only[\"matching_reco_particle_contained\"].append(row[\"matching_reco_particle_contained\"][true_particle_i])\n",
    "                true_muons_only[\"matching_reco_particle_primary\"].append(row[\"matching_reco_particle_primary\"][true_particle_i])\n",
    "                true_muons_only[\"matching_reco_particle_pdg_code\"].append(row[\"matching_reco_particle_pdg_code\"][true_particle_i])\n",
    "                true_muons_only[\"matching_reco_particle_start_point_x\"].append(row[\"matching_reco_particle_start_point_x\"][true_particle_i])\n",
    "                true_muons_only[\"matching_reco_particle_start_point_y\"].append(row[\"matching_reco_particle_start_point_y\"][true_particle_i])\n",
    "                true_muons_only[\"matching_reco_particle_start_point_z\"].append(row[\"matching_reco_particle_start_point_z\"][true_particle_i])\n",
    "                true_muons_only[\"matching_reco_particle_start_dir_x\"].append(row[\"matching_reco_particle_start_dir_x\"][true_particle_i])\n",
    "                true_muons_only[\"matching_reco_particle_start_dir_y\"].append(row[\"matching_reco_particle_start_dir_y\"][true_particle_i])\n",
    "                true_muons_only[\"matching_reco_particle_start_dir_z\"].append(row[\"matching_reco_particle_start_dir_z\"][true_particle_i])\n",
    "                true_muons_only[\"matching_reco_particle_end_point_x\"].append(row[\"matching_reco_particle_end_point_x\"][true_particle_i])\n",
    "                true_muons_only[\"matching_reco_particle_end_point_y\"].append(row[\"matching_reco_particle_end_point_y\"][true_particle_i])\n",
    "                true_muons_only[\"matching_reco_particle_end_point_z\"].append(row[\"matching_reco_particle_end_point_z\"][true_particle_i])\n",
    "                true_muons_only[\"matching_reco_particle_ke\"].append(row[\"matching_reco_particle_ke\"][true_particle_i])\n",
    "                true_muons_only[\"matching_reco_particle_mcs_ke\"].append(row[\"matching_reco_particle_mcs_ke\"][true_particle_i])\n",
    "                true_muons_only[\"matching_reco_particle_csda_ke\"].append(row[\"matching_reco_particle_csda_ke\"][true_particle_i])\n",
    "                true_muons_only[\"matching_reco_particle_calo_ke\"].append(row[\"matching_reco_particle_calo_ke\"][true_particle_i])\n",
    "                true_muons_only[\"matching_reco_particle_length\"].append(row[\"matching_reco_particle_length\"][true_particle_i])\n",
    "\n",
    "    true_muons_only_df = pd.DataFrame({\n",
    "        \"true_particle_interaction_id\": true_muons_only[\"true_particle_interaction_id\"],\n",
    "        \"true_particle_match_reco_particle_id\": true_muons_only[\"true_particle_match_reco_particle_id\"],\n",
    "        \"true_particle_contained\": true_muons_only[\"true_particle_contained\"],\n",
    "        \"true_particle_primary\": true_muons_only[\"true_particle_primary\"],\n",
    "        \"true_particle_pdg_code\": true_muons_only[\"true_particle_pdg_code\"],\n",
    "        \"true_start_point_x\": true_muons_only[\"true_start_point_x\"],\n",
    "        \"true_start_point_y\": true_muons_only[\"true_start_point_y\"],\n",
    "        \"true_start_point_z\": true_muons_only[\"true_start_point_z\"],\n",
    "        \"true_start_dir_x\": true_muons_only[\"true_start_dir_x\"],\n",
    "        \"true_start_dir_y\": true_muons_only[\"true_start_dir_y\"],\n",
    "        \"true_start_dir_z\": true_muons_only[\"true_start_dir_z\"],\n",
    "        \"true_end_point_x\": true_muons_only[\"true_end_point_x\"],\n",
    "        \"true_end_point_y\": true_muons_only[\"true_end_point_y\"],\n",
    "        \"true_end_point_z\": true_muons_only[\"true_end_point_z\"],\n",
    "        \"true_ke\": true_muons_only[\"true_ke\"],\n",
    "        \"true_length\": true_muons_only[\"true_length\"],\n",
    "        \"matching_reco_particle_id\": true_muons_only[\"matching_reco_particle_id\"],\n",
    "        \"matching_reco_particle_contained\": true_muons_only[\"matching_reco_particle_contained\"],\n",
    "        \"matching_reco_particle_primary\": true_muons_only[\"matching_reco_particle_primary\"],\n",
    "        \"matching_reco_particle_pdg_code\": true_muons_only[\"matching_reco_particle_pdg_code\"],\n",
    "        \"matching_reco_particle_start_point_x\": true_muons_only[\"matching_reco_particle_start_point_x\"],\n",
    "        \"matching_reco_particle_start_point_y\": true_muons_only[\"matching_reco_particle_start_point_y\"],\n",
    "        \"matching_reco_particle_start_point_z\": true_muons_only[\"matching_reco_particle_start_point_z\"],\n",
    "        \"matching_reco_particle_start_dir_x\": true_muons_only[\"matching_reco_particle_start_dir_x\"],\n",
    "        \"matching_reco_particle_start_dir_y\": true_muons_only[\"matching_reco_particle_start_dir_y\"],\n",
    "        \"matching_reco_particle_start_dir_z\": true_muons_only[\"matching_reco_particle_start_dir_z\"],\n",
    "        \"matching_reco_particle_end_point_x\": true_muons_only[\"matching_reco_particle_end_point_x\"],\n",
    "        \"matching_reco_particle_end_point_y\": true_muons_only[\"matching_reco_particle_end_point_y\"],\n",
    "        \"matching_reco_particle_end_point_z\": true_muons_only[\"matching_reco_particle_end_point_z\"],\n",
    "        \"matching_reco_particle_ke\": true_muons_only[\"matching_reco_particle_ke\"],\n",
    "        \"matching_reco_particle_mcs_ke\": true_muons_only[\"matching_reco_particle_mcs_ke\"],\n",
    "        \"matching_reco_particle_csda_ke\": true_muons_only[\"matching_reco_particle_csda_ke\"],\n",
    "        \"matching_reco_particle_calo_ke\": true_muons_only[\"matching_reco_particle_calo_ke\"],\n",
    "        \"matching_reco_particle_length\": true_muons_only[\"matching_reco_particle_length\"],\n",
    "    })\n",
    "\n",
    "    return true_muons_only_df"
   ]
  },
  {
   "cell_type": "code",
   "execution_count": 6,
   "id": "050fb05f",
   "metadata": {},
   "outputs": [
    {
     "name": "stdout",
     "output_type": "stream",
     "text": [
      "processing input000.flat.root\n"
     ]
    },
    {
     "data": {
      "application/vnd.jupyter.widget-view+json": {
       "model_id": "f3b7e89f3f964fd9a7c1fc901720a8d7",
       "version_major": 2,
       "version_minor": 0
      },
      "text/plain": [
       "  0%|          | 0/8832 [00:00<?, ?it/s]"
      ]
     },
     "metadata": {},
     "output_type": "display_data"
    },
    {
     "name": "stdout",
     "output_type": "stream",
     "text": [
      "processing input001.flat.root\n"
     ]
    },
    {
     "data": {
      "application/vnd.jupyter.widget-view+json": {
       "model_id": "5bf428cf34634610b72a6aabda9cdd4f",
       "version_major": 2,
       "version_minor": 0
      },
      "text/plain": [
       "  0%|          | 0/8735 [00:00<?, ?it/s]"
      ]
     },
     "metadata": {},
     "output_type": "display_data"
    },
    {
     "name": "stdout",
     "output_type": "stream",
     "text": [
      "processing input002.flat.root\n"
     ]
    },
    {
     "data": {
      "application/vnd.jupyter.widget-view+json": {
       "model_id": "57248c90d0454bf3948516f99be31b70",
       "version_major": 2,
       "version_minor": 0
      },
      "text/plain": [
       "  0%|          | 0/8851 [00:00<?, ?it/s]"
      ]
     },
     "metadata": {},
     "output_type": "display_data"
    },
    {
     "name": "stdout",
     "output_type": "stream",
     "text": [
      "processing input003.flat.root\n"
     ]
    },
    {
     "data": {
      "application/vnd.jupyter.widget-view+json": {
       "model_id": "5350658f071e42eab39371644b83fdea",
       "version_major": 2,
       "version_minor": 0
      },
      "text/plain": [
       "  0%|          | 0/8708 [00:00<?, ?it/s]"
      ]
     },
     "metadata": {},
     "output_type": "display_data"
    },
    {
     "name": "stdout",
     "output_type": "stream",
     "text": [
      "processing input004.flat.root\n"
     ]
    },
    {
     "data": {
      "application/vnd.jupyter.widget-view+json": {
       "model_id": "9c5c2043e5a44024867c5d57c4021a98",
       "version_major": 2,
       "version_minor": 0
      },
      "text/plain": [
       "  0%|          | 0/8886 [00:00<?, ?it/s]"
      ]
     },
     "metadata": {},
     "output_type": "display_data"
    },
    {
     "name": "stdout",
     "output_type": "stream",
     "text": [
      "processing input005.flat.root\n"
     ]
    },
    {
     "data": {
      "application/vnd.jupyter.widget-view+json": {
       "model_id": "983d101cb3b346988865724fe5d2f410",
       "version_major": 2,
       "version_minor": 0
      },
      "text/plain": [
       "  0%|          | 0/8840 [00:00<?, ?it/s]"
      ]
     },
     "metadata": {},
     "output_type": "display_data"
    },
    {
     "name": "stdout",
     "output_type": "stream",
     "text": [
      "processing input006.flat.root\n"
     ]
    },
    {
     "data": {
      "application/vnd.jupyter.widget-view+json": {
       "model_id": "eff721c3372943c4865a0a048587c8b0",
       "version_major": 2,
       "version_minor": 0
      },
      "text/plain": [
       "  0%|          | 0/8734 [00:00<?, ?it/s]"
      ]
     },
     "metadata": {},
     "output_type": "display_data"
    },
    {
     "name": "stdout",
     "output_type": "stream",
     "text": [
      "processing input007.flat.root\n"
     ]
    },
    {
     "data": {
      "application/vnd.jupyter.widget-view+json": {
       "model_id": "d02a4cdb90cf44d7870a53be0d2680d9",
       "version_major": 2,
       "version_minor": 0
      },
      "text/plain": [
       "  0%|          | 0/8836 [00:00<?, ?it/s]"
      ]
     },
     "metadata": {},
     "output_type": "display_data"
    },
    {
     "name": "stdout",
     "output_type": "stream",
     "text": [
      "processing input008.flat.root\n"
     ]
    },
    {
     "data": {
      "application/vnd.jupyter.widget-view+json": {
       "model_id": "036b4172095d4bb0b1ce7588957e305a",
       "version_major": 2,
       "version_minor": 0
      },
      "text/plain": [
       "  0%|          | 0/8943 [00:00<?, ?it/s]"
      ]
     },
     "metadata": {},
     "output_type": "display_data"
    },
    {
     "name": "stdout",
     "output_type": "stream",
     "text": [
      "processing input009.flat.root\n"
     ]
    },
    {
     "data": {
      "application/vnd.jupyter.widget-view+json": {
       "model_id": "97f0cfa8b23d47ef99b6c42a4aab0448",
       "version_major": 2,
       "version_minor": 0
      },
      "text/plain": [
       "  0%|          | 0/8819 [00:00<?, ?it/s]"
      ]
     },
     "metadata": {},
     "output_type": "display_data"
    },
    {
     "name": "stdout",
     "output_type": "stream",
     "text": [
      "processing input010.flat.root\n"
     ]
    },
    {
     "data": {
      "application/vnd.jupyter.widget-view+json": {
       "model_id": "1abc54cfc47e4342b993de2a542d39b3",
       "version_major": 2,
       "version_minor": 0
      },
      "text/plain": [
       "  0%|          | 0/8624 [00:00<?, ?it/s]"
      ]
     },
     "metadata": {},
     "output_type": "display_data"
    },
    {
     "name": "stdout",
     "output_type": "stream",
     "text": [
      "processing input011.flat.root\n"
     ]
    },
    {
     "data": {
      "application/vnd.jupyter.widget-view+json": {
       "model_id": "66d944da8ac348aab525705818dead40",
       "version_major": 2,
       "version_minor": 0
      },
      "text/plain": [
       "  0%|          | 0/8933 [00:00<?, ?it/s]"
      ]
     },
     "metadata": {},
     "output_type": "display_data"
    },
    {
     "name": "stdout",
     "output_type": "stream",
     "text": [
      "processing input012.flat.root\n"
     ]
    },
    {
     "data": {
      "application/vnd.jupyter.widget-view+json": {
       "model_id": "8c4297e3c092453c99f4a450c57bf7c9",
       "version_major": 2,
       "version_minor": 0
      },
      "text/plain": [
       "  0%|          | 0/8793 [00:00<?, ?it/s]"
      ]
     },
     "metadata": {},
     "output_type": "display_data"
    },
    {
     "name": "stdout",
     "output_type": "stream",
     "text": [
      "processing input013.flat.root\n"
     ]
    },
    {
     "data": {
      "application/vnd.jupyter.widget-view+json": {
       "model_id": "d3407ec8499f4573a614b112f3c6a874",
       "version_major": 2,
       "version_minor": 0
      },
      "text/plain": [
       "  0%|          | 0/8879 [00:00<?, ?it/s]"
      ]
     },
     "metadata": {},
     "output_type": "display_data"
    },
    {
     "name": "stdout",
     "output_type": "stream",
     "text": [
      "processing input014.flat.root\n"
     ]
    },
    {
     "data": {
      "application/vnd.jupyter.widget-view+json": {
       "model_id": "502c211c1ff24e91a7129e3c2a1437ab",
       "version_major": 2,
       "version_minor": 0
      },
      "text/plain": [
       "  0%|          | 0/8748 [00:00<?, ?it/s]"
      ]
     },
     "metadata": {},
     "output_type": "display_data"
    },
    {
     "name": "stdout",
     "output_type": "stream",
     "text": [
      "processing input015.flat.root\n"
     ]
    },
    {
     "data": {
      "application/vnd.jupyter.widget-view+json": {
       "model_id": "310757e0983b419ca8a0e30abb52680a",
       "version_major": 2,
       "version_minor": 0
      },
      "text/plain": [
       "  0%|          | 0/8858 [00:00<?, ?it/s]"
      ]
     },
     "metadata": {},
     "output_type": "display_data"
    },
    {
     "name": "stdout",
     "output_type": "stream",
     "text": [
      "processing input016.flat.root\n"
     ]
    },
    {
     "data": {
      "application/vnd.jupyter.widget-view+json": {
       "model_id": "622c8d454a164699aaaf399a8bd50d1b",
       "version_major": 2,
       "version_minor": 0
      },
      "text/plain": [
       "  0%|          | 0/8772 [00:00<?, ?it/s]"
      ]
     },
     "metadata": {},
     "output_type": "display_data"
    },
    {
     "name": "stdout",
     "output_type": "stream",
     "text": [
      "processing input017.flat.root\n"
     ]
    },
    {
     "data": {
      "application/vnd.jupyter.widget-view+json": {
       "model_id": "28f1a26927cc49ba81554dc90f7dbb06",
       "version_major": 2,
       "version_minor": 0
      },
      "text/plain": [
       "  0%|          | 0/8755 [00:00<?, ?it/s]"
      ]
     },
     "metadata": {},
     "output_type": "display_data"
    },
    {
     "name": "stdout",
     "output_type": "stream",
     "text": [
      "processing input018.flat.root\n"
     ]
    },
    {
     "data": {
      "application/vnd.jupyter.widget-view+json": {
       "model_id": "9824027c9494479295b2038e7e947bfc",
       "version_major": 2,
       "version_minor": 0
      },
      "text/plain": [
       "  0%|          | 0/8838 [00:00<?, ?it/s]"
      ]
     },
     "metadata": {},
     "output_type": "display_data"
    },
    {
     "name": "stdout",
     "output_type": "stream",
     "text": [
      "processing input019.flat.root\n"
     ]
    },
    {
     "data": {
      "application/vnd.jupyter.widget-view+json": {
       "model_id": "a2817c3d91be45d4935c0064ca35ef5f",
       "version_major": 2,
       "version_minor": 0
      },
      "text/plain": [
       "  0%|          | 0/2362 [00:00<?, ?it/s]"
      ]
     },
     "metadata": {},
     "output_type": "display_data"
    },
    {
     "name": "stdout",
     "output_type": "stream",
     "text": [
      "done!\n"
     ]
    }
   ],
   "source": [
    "# iterate over files in /nevis/riverside/data/leehagaman/spine/flat_cafs\n",
    "\n",
    "combined_true_muons_only_df = pd.DataFrame()\n",
    "\n",
    "for filename in os.listdir('/nevis/riverside/data/leehagaman/spine/flat_cafs'):\n",
    "    if not filename.endswith('.flat.root'):\n",
    "        print(\"skipping\", filename)\n",
    "        continue\n",
    "    print(\"processing\", filename)\n",
    "    df = get_df_from_file(filename)\n",
    "    primary_fv_interactions_df = get_primary_fv_interactions_df(df)\n",
    "    true_muons_only_df = get_true_muons_only_df(primary_fv_interactions_df)\n",
    "\n",
    "    combined_true_muons_only_df = pd.concat([combined_true_muons_only_df, true_muons_only_df])\n",
    "\n",
    "print(\"done!\")\n"
   ]
  },
  {
   "cell_type": "code",
   "execution_count": 7,
   "id": "2882885e",
   "metadata": {},
   "outputs": [],
   "source": [
    "with open('true_muons_only_df.pkl', 'wb') as f:\n",
    "    pickle.dump(combined_true_muons_only_df, f)\n"
   ]
  },
  {
   "cell_type": "code",
   "execution_count": null,
   "id": "731fa1f5",
   "metadata": {},
   "outputs": [],
   "source": []
  }
 ],
 "metadata": {
  "kernelspec": {
   "display_name": "uv_base",
   "language": "python",
   "name": "python3"
  },
  "language_info": {
   "codemirror_mode": {
    "name": "ipython",
    "version": 3
   },
   "file_extension": ".py",
   "mimetype": "text/x-python",
   "name": "python",
   "nbconvert_exporter": "python",
   "pygments_lexer": "ipython3",
   "version": "3.11.13"
  }
 },
 "nbformat": 4,
 "nbformat_minor": 5
}
